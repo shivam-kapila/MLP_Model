{
 "cells": [
  {
   "cell_type": "code",
   "execution_count": 1,
   "metadata": {},
   "outputs": [],
   "source": [
    "import numpy as np\n",
    "import matplotlib.pyplot as plt\n",
    "import math as math\n",
    "from matplotlib.pyplot import figure\n",
    "np.set_printoptions(suppress=True)"
   ]
  },
  {
   "cell_type": "code",
   "execution_count": 2,
   "metadata": {},
   "outputs": [],
   "source": [
    "def find_output(X):\n",
    "    Y= np.add(np.add(np.add(X[:,0:1],X[:,1:2]*X[:,1:2],X[:,2:3]),np.add(X[:,3:4],np.sin(X[:,4:5]),X[:,5:6])),np.add(np.add(7*X[:,6:7],8*np.exp(X[:,7:8]),X[:,8:9]),X[:,9:10]))\n",
    "    Y=activate_sigmoid(Y)\n",
    "    return Y"
   ]
  },
  {
   "cell_type": "code",
   "execution_count": 3,
   "metadata": {},
   "outputs": [],
   "source": [
    "def activate_sigmoid(sum):\n",
    "    return (2/(1+np.exp(-sum))-1)"
   ]
  },
  {
   "cell_type": "code",
   "execution_count": 4,
   "metadata": {},
   "outputs": [],
   "source": [
    "X = np.random.uniform(-1,1,(1000,10))\n",
    "Y = find_output(X)"
   ]
  },
  {
   "cell_type": "code",
   "execution_count": 5,
   "metadata": {},
   "outputs": [],
   "source": [
    " def print_network(net):\n",
    "    for i,layer in enumerate(net,1):\n",
    "        print(\"Layer {} \".format(i))\n",
    "        for j,neuron in enumerate(layer,1):\n",
    "            print(\"neuron {} :\".format(j),neuron)"
   ]
  },
  {
   "cell_type": "code",
   "execution_count": 6,
   "metadata": {},
   "outputs": [],
   "source": [
    "def initialize_network():\n",
    "    input_neurons=len(X[0])\n",
    "    hidden_neurons=input_neurons+1\n",
    "    output_neurons=1\n",
    "    n_hidden_layers=1\n",
    "    net=list()\n",
    "    for h in range(n_hidden_layers):\n",
    "        if h!=0:\n",
    "            input_neurons=len(net[-1])\n",
    "            \n",
    "        hidden_layer = [ { 'weights': np.random.uniform(size=input_neurons)} for i in range(hidden_neurons) ]\n",
    "        net.append(hidden_layer)\n",
    "    \n",
    "    output_layer = [ { 'weights': np.random.uniform(size=hidden_neurons)} for i in range(output_neurons)]\n",
    "    net.append(output_layer)\n",
    "    \n",
    "    return net"
   ]
  },
  {
   "cell_type": "code",
   "execution_count": 7,
   "metadata": {},
   "outputs": [
    {
     "name": "stdout",
     "output_type": "stream",
     "text": [
      "Layer 1 \n",
      "neuron 1 : {'weights': array([0.76107052, 0.82142593, 0.16258632, 0.41669716, 0.76048844,\n",
      "       0.36311467, 0.3585531 , 0.97203214, 0.69966967, 0.6248929 ])}\n",
      "neuron 2 : {'weights': array([0.81479636, 0.32556313, 0.79449214, 0.64398725, 0.82459841,\n",
      "       0.48993803, 0.61419281, 0.42956975, 0.15422226, 0.89090139])}\n",
      "neuron 3 : {'weights': array([0.44932834, 0.77506772, 0.68551118, 0.43383987, 0.61522679,\n",
      "       0.48942166, 0.32686399, 0.61598457, 0.43166881, 0.85766455])}\n",
      "neuron 4 : {'weights': array([0.46320704, 0.46486962, 0.66198802, 0.50489733, 0.27287543,\n",
      "       0.02044988, 0.7520657 , 0.85861616, 0.55114061, 0.69073796])}\n",
      "neuron 5 : {'weights': array([0.21633441, 0.83330725, 0.69009615, 0.25050395, 0.74211267,\n",
      "       0.1642097 , 0.67083418, 0.14333653, 0.21018429, 0.39569691])}\n",
      "neuron 6 : {'weights': array([0.46163103, 0.05953654, 0.22233992, 0.13213917, 0.36112211,\n",
      "       0.70631485, 0.68891117, 0.72894661, 0.45773421, 0.63859008])}\n",
      "neuron 7 : {'weights': array([0.7951387 , 0.46098989, 0.55537538, 0.5541324 , 0.76570364,\n",
      "       0.61796806, 0.92674952, 0.63952666, 0.65109659, 0.18111638])}\n",
      "neuron 8 : {'weights': array([0.2172616 , 0.6221    , 0.73595936, 0.06380724, 0.19111431,\n",
      "       0.33696558, 0.90834091, 0.52577346, 0.38862851, 0.78289038])}\n",
      "neuron 9 : {'weights': array([0.01889933, 0.10572635, 0.94733027, 0.18972272, 0.91330964,\n",
      "       0.90813336, 0.48376363, 0.30682482, 0.6672027 , 0.83100097])}\n",
      "neuron 10 : {'weights': array([0.77196795, 0.58654701, 0.64372108, 0.56149612, 0.7928997 ,\n",
      "       0.57828798, 0.32993762, 0.51272579, 0.88652813, 0.86919694])}\n",
      "neuron 11 : {'weights': array([0.94301598, 0.23532384, 0.96835678, 0.20421735, 0.48617532,\n",
      "       0.62803387, 0.54730433, 0.31588521, 0.16958257, 0.4817269 ])}\n",
      "Layer 2 \n",
      "neuron 1 : {'weights': array([0.4356726 , 0.7489223 , 0.24415495, 0.22172533, 0.0368572 ,\n",
      "       0.39677541, 0.83369375, 0.11728657, 0.4416228 , 0.60121709,\n",
      "       0.43738925])}\n"
     ]
    }
   ],
   "source": [
    "net=initialize_network()\n",
    "print_network(net)"
   ]
  },
  {
   "cell_type": "code",
   "execution_count": 8,
   "metadata": {},
   "outputs": [],
   "source": [
    "def forward_propagation(net,input):\n",
    "    row=input\n",
    "    for layer in net:\n",
    "        prev_input=np.array([])\n",
    "        for neuron in layer:\n",
    "            sum=neuron['weights'].T.dot(row)\n",
    "            \n",
    "            result=activate_sigmoid(sum)\n",
    "            neuron['result']=result\n",
    "            prev_input=np.append(prev_input,[result])\n",
    "        row=prev_input\n",
    "    return row"
   ]
  },
  {
   "cell_type": "code",
   "execution_count": 9,
   "metadata": {},
   "outputs": [],
   "source": [
    "def sigmoidDerivative(output):\n",
    "    return (0.5*(1.0-output*output))"
   ]
  },
  {
   "cell_type": "code",
   "execution_count": 10,
   "metadata": {},
   "outputs": [],
   "source": [
    "def back_propagation(net,row,expected):\n",
    "     for i in reversed(range(len(net))):\n",
    "            layer=net[i]\n",
    "            errors=np.array([])\n",
    "            if i==len(net)-1:\n",
    "                results=[neuron['result'] for neuron in layer]\n",
    "                errors = expected-np.array(results)\n",
    "            else:\n",
    "                for j in range(len(layer)):\n",
    "                    herror=0\n",
    "                    nextlayer=net[i+1]\n",
    "                    for neuron in nextlayer:\n",
    "                        herror+=(neuron['weights'][j]*neuron['delta'])\n",
    "                    errors=np.append(errors,[herror])\n",
    "            \n",
    "            for j in range(len(layer)):\n",
    "                neuron=layer[j]\n",
    "                neuron['delta']=errors[j]*sigmoidDerivative(neuron['result'])"
   ]
  },
  {
   "cell_type": "code",
   "execution_count": 11,
   "metadata": {},
   "outputs": [],
   "source": [
    "def updateWeights(net,input,lrate):\n",
    "    \n",
    "    for i in range(len(net)):\n",
    "        inputs = input\n",
    "        if i!=0:\n",
    "            inputs=[neuron['result'] for neuron in net[i-1]]\n",
    "\n",
    "        for neuron in net[i]:\n",
    "            for j in range(len(inputs)):\n",
    "                neuron['weights'][j]+=lrate*neuron['delta']*inputs[j]"
   ]
  },
  {
   "cell_type": "code",
   "execution_count": 12,
   "metadata": {},
   "outputs": [],
   "source": [
    "def training(net, epochs,lrate,n_outputs):\n",
    "    errors=[]\n",
    "    for epoch in range(epochs):\n",
    "        sum_error=0\n",
    "        for i,row in enumerate(X):\n",
    "            outputs=forward_propagation(net,row)\n",
    "            sum_error+=0.5*(math.pow((Y[i]-outputs),2))\n",
    "            back_propagation(net,row,Y[i])\n",
    "            updateWeights(net,row,0.05)\n",
    "        errors.append(sum_error)\n",
    "    return errors"
   ]
  },
  {
   "cell_type": "code",
   "execution_count": 13,
   "metadata": {},
   "outputs": [],
   "source": [
    "errors=training(net,100, 0.01,1)"
   ]
  },
  {
   "cell_type": "code",
   "execution_count": 14,
   "metadata": {},
   "outputs": [
    {
     "data": {
      "image/png": "[encoded data removed]",
      "text/plain": [
       "<Figure size 960x800 with 1 Axes>"
      ]
     },
     "metadata": {},
     "output_type": "display_data"
    }
   ],
   "source": [
    "epochs = []\n",
    "for i in range(100):\n",
    "    epochs.append(i)\n",
    "\n",
    "figure(num=None, figsize=(12, 10), dpi=80, facecolor='w', edgecolor='k')\n",
    "plt.plot(epochs,errors)\n",
    "plt.xlabel(\"epochs\")\n",
    "plt.ylabel('error')\n",
    "textstr = 'Neural Network error = '+str(errors[99])\n",
    "plt.text(-5, -2, textstr, fontsize=14)\n",
    "\n",
    "plt.legend(['LMS Error'])\n",
    "plt.show()\n"
   ]
  },
  {
   "cell_type": "code",
   "execution_count": 15,
   "metadata": {},
   "outputs": [],
   "source": [
    "def predict(network, row):\n",
    "    outputs = forward_propagation(net, row)\n",
    "    return outputs"
   ]
  },
  {
   "cell_type": "code",
   "execution_count": 18,
   "metadata": {},
   "outputs": [],
   "source": [
    "Xpred = np.random.uniform(-1,1,(15,10))\n",
    "Ypred = find_output(Xpred)\n",
    "predarr=[]\n",
    "for i,row in enumerate(Xpred):\n",
    "    pred=predict(net,row)\n",
    "    output=(pred)\n",
    "    predarr.append(pred)"
   ]
  },
  {
   "cell_type": "code",
   "execution_count": 23,
   "metadata": {
    "scrolled": false
   },
   "outputs": [
    {
     "ename": "TypeError",
     "evalue": "unhashable type: 'numpy.ndarray'",
     "output_type": "error",
     "traceback": [
      "\u001b[0;31m---------------------------------------------------------------------------\u001b[0m",
      "\u001b[0;31mTypeError\u001b[0m                                 Traceback (most recent call last)",
      "\u001b[0;32m<ipython-input-23-337cde210f21>\u001b[0m in \u001b[0;36m<module>\u001b[0;34m\u001b[0m\n\u001b[1;32m     21\u001b[0m     \u001b[0mY12\u001b[0m\u001b[0;34m.\u001b[0m\u001b[0mappend\u001b[0m\u001b[0;34m(\u001b[0m\u001b[0mYpred\u001b[0m\u001b[0;34m[\u001b[0m\u001b[0mi\u001b[0m\u001b[0;34m]\u001b[0m\u001b[0;34m)\u001b[0m\u001b[0;34m\u001b[0m\u001b[0;34m\u001b[0m\u001b[0m\n\u001b[1;32m     22\u001b[0m     \u001b[0mX12\u001b[0m\u001b[0;34m.\u001b[0m\u001b[0mappend\u001b[0m\u001b[0;34m(\u001b[0m\u001b[0mX\u001b[0m\u001b[0;34m[\u001b[0m\u001b[0mi\u001b[0m\u001b[0;34m]\u001b[0m\u001b[0;34m)\u001b[0m\u001b[0;34m\u001b[0m\u001b[0;34m\u001b[0m\u001b[0m\n\u001b[0;32m---> 23\u001b[0;31m \u001b[0mplt\u001b[0m\u001b[0;34m.\u001b[0m\u001b[0msubplot\u001b[0m\u001b[0;34m(\u001b[0m\u001b[0mepochs\u001b[0m\u001b[0;34m,\u001b[0m \u001b[0mY12\u001b[0m\u001b[0;34m)\u001b[0m\u001b[0;34m\u001b[0m\u001b[0;34m\u001b[0m\u001b[0m\n\u001b[0m\u001b[1;32m     24\u001b[0m \u001b[0mplt\u001b[0m\u001b[0;34m.\u001b[0m\u001b[0msubplot\u001b[0m\u001b[0;34m(\u001b[0m\u001b[0mepochs\u001b[0m\u001b[0;34m,\u001b[0m \u001b[0mpredarr\u001b[0m\u001b[0;34m)\u001b[0m\u001b[0;34m\u001b[0m\u001b[0;34m\u001b[0m\u001b[0m\n\u001b[1;32m     25\u001b[0m \u001b[0mplt\u001b[0m\u001b[0;34m.\u001b[0m\u001b[0mlegend\u001b[0m\u001b[0;34m(\u001b[0m\u001b[0;34m[\u001b[0m\u001b[0;34m'Actual'\u001b[0m\u001b[0;34m,\u001b[0m \u001b[0;34m'Predicted'\u001b[0m\u001b[0;34m]\u001b[0m\u001b[0;34m)\u001b[0m\u001b[0;34m\u001b[0m\u001b[0;34m\u001b[0m\u001b[0m\n",
      "\u001b[0;32m~/anaconda3/lib/python3.7/site-packages/matplotlib/pyplot.py\u001b[0m in \u001b[0;36msubplot\u001b[0;34m(*args, **kwargs)\u001b[0m\n\u001b[1;32m   1082\u001b[0m \u001b[0;34m\u001b[0m\u001b[0m\n\u001b[1;32m   1083\u001b[0m     \u001b[0mfig\u001b[0m \u001b[0;34m=\u001b[0m \u001b[0mgcf\u001b[0m\u001b[0;34m(\u001b[0m\u001b[0;34m)\u001b[0m\u001b[0;34m\u001b[0m\u001b[0;34m\u001b[0m\u001b[0m\n\u001b[0;32m-> 1084\u001b[0;31m     \u001b[0ma\u001b[0m \u001b[0;34m=\u001b[0m \u001b[0mfig\u001b[0m\u001b[0;34m.\u001b[0m\u001b[0madd_subplot\u001b[0m\u001b[0;34m(\u001b[0m\u001b[0;34m*\u001b[0m\u001b[0margs\u001b[0m\u001b[0;34m,\u001b[0m \u001b[0;34m**\u001b[0m\u001b[0mkwargs\u001b[0m\u001b[0;34m)\u001b[0m\u001b[0;34m\u001b[0m\u001b[0;34m\u001b[0m\u001b[0m\n\u001b[0m\u001b[1;32m   1085\u001b[0m     \u001b[0mbbox\u001b[0m \u001b[0;34m=\u001b[0m \u001b[0ma\u001b[0m\u001b[0;34m.\u001b[0m\u001b[0mbbox\u001b[0m\u001b[0;34m\u001b[0m\u001b[0;34m\u001b[0m\u001b[0m\n\u001b[1;32m   1086\u001b[0m     \u001b[0mbyebye\u001b[0m \u001b[0;34m=\u001b[0m \u001b[0;34m[\u001b[0m\u001b[0;34m]\u001b[0m\u001b[0;34m\u001b[0m\u001b[0;34m\u001b[0m\u001b[0m\n",
      "\u001b[0;32m~/anaconda3/lib/python3.7/site-packages/matplotlib/figure.py\u001b[0m in \u001b[0;36madd_subplot\u001b[0;34m(self, *args, **kwargs)\u001b[0m\n\u001b[1;32m   1350\u001b[0m \u001b[0;34m\u001b[0m\u001b[0m\n\u001b[1;32m   1351\u001b[0m             \u001b[0;31m# try to find the axes with this key in the stack\u001b[0m\u001b[0;34m\u001b[0m\u001b[0;34m\u001b[0m\u001b[0;34m\u001b[0m\u001b[0m\n\u001b[0;32m-> 1352\u001b[0;31m             \u001b[0max\u001b[0m \u001b[0;34m=\u001b[0m \u001b[0mself\u001b[0m\u001b[0;34m.\u001b[0m\u001b[0m_axstack\u001b[0m\u001b[0;34m.\u001b[0m\u001b[0mget\u001b[0m\u001b[0;34m(\u001b[0m\u001b[0mkey\u001b[0m\u001b[0;34m)\u001b[0m\u001b[0;34m\u001b[0m\u001b[0;34m\u001b[0m\u001b[0m\n\u001b[0m\u001b[1;32m   1353\u001b[0m \u001b[0;34m\u001b[0m\u001b[0m\n\u001b[1;32m   1354\u001b[0m             \u001b[0;32mif\u001b[0m \u001b[0max\u001b[0m \u001b[0;32mis\u001b[0m \u001b[0;32mnot\u001b[0m \u001b[0;32mNone\u001b[0m\u001b[0;34m:\u001b[0m\u001b[0;34m\u001b[0m\u001b[0;34m\u001b[0m\u001b[0m\n",
      "\u001b[0;32m~/anaconda3/lib/python3.7/site-packages/matplotlib/figure.py\u001b[0m in \u001b[0;36mget\u001b[0;34m(self, key)\u001b[0m\n\u001b[1;32m     91\u001b[0m         \u001b[0mIf\u001b[0m \u001b[0mit\u001b[0m \u001b[0;32mis\u001b[0m \u001b[0;32mnot\u001b[0m \u001b[0mpresent\u001b[0m\u001b[0;34m,\u001b[0m \u001b[0;32mreturn\u001b[0m \u001b[0;34m*\u001b[0m\u001b[0;32mNone\u001b[0m\u001b[0;34m*\u001b[0m\u001b[0;34m.\u001b[0m\u001b[0;34m\u001b[0m\u001b[0;34m\u001b[0m\u001b[0m\n\u001b[1;32m     92\u001b[0m         \"\"\"\n\u001b[0;32m---> 93\u001b[0;31m         \u001b[0mitem\u001b[0m \u001b[0;34m=\u001b[0m \u001b[0mdict\u001b[0m\u001b[0;34m(\u001b[0m\u001b[0mself\u001b[0m\u001b[0;34m.\u001b[0m\u001b[0m_elements\u001b[0m\u001b[0;34m)\u001b[0m\u001b[0;34m.\u001b[0m\u001b[0mget\u001b[0m\u001b[0;34m(\u001b[0m\u001b[0mkey\u001b[0m\u001b[0;34m)\u001b[0m\u001b[0;34m\u001b[0m\u001b[0;34m\u001b[0m\u001b[0m\n\u001b[0m\u001b[1;32m     94\u001b[0m         \u001b[0;32mif\u001b[0m \u001b[0mitem\u001b[0m \u001b[0;32mis\u001b[0m \u001b[0;32mNone\u001b[0m\u001b[0;34m:\u001b[0m\u001b[0;34m\u001b[0m\u001b[0;34m\u001b[0m\u001b[0m\n\u001b[1;32m     95\u001b[0m             \u001b[0;32mreturn\u001b[0m \u001b[0;32mNone\u001b[0m\u001b[0;34m\u001b[0m\u001b[0;34m\u001b[0m\u001b[0m\n",
      "\u001b[0;31mTypeError\u001b[0m: unhashable type: 'numpy.ndarray'"
     ]
    },
    {
     "data": {
      "text/plain": [
       "<Figure size 960x800 with 0 Axes>"
      ]
     },
     "metadata": {},
     "output_type": "display_data"
    }
   ],
   "source": [
    "epochs = []\n",
    "for i in range(100):\n",
    "    epochs.append(i)\n",
    "\n",
    "# figure(num=None, figsize=(12, 10), dpi=80, facecolor='w', edgecolor='k')\n",
    "# plt.subplot(epochs,errors)\n",
    "# plt.xlabel(\"epochs\")\n",
    "# plt.ylabel('error')\n",
    "# textstr = 'Neural Network error = '+str(errors[99])\n",
    "# plt.text(-5, -2, textstr, fontsize=14)\n",
    "\n",
    "# plt.legend(['LMS Error'])\n",
    "# plt.plot()\n",
    "\n",
    "figure(num=None, figsize=(12, 10), dpi=80, facecolor='w', edgecolor='k')\n",
    "epochs = []\n",
    "Y12 = []\n",
    "X12 = []\n",
    "for i in range(15):\n",
    "    epochs.append(i)\n",
    "    Y12.append(Ypred[i])\n",
    "    X12.append(X[i])\n",
    "plt.subplot(epochs, Y12)\n",
    "plt.subplot(epochs, predarr)\n",
    "plt.legend(['Actual', 'Predicted'])\n",
    "plt.plot()\n"
   ]
  },
  {
   "cell_type": "code",
   "execution_count": null,
   "metadata": {},
   "outputs": [],
   "source": []
  }
 ],
 "metadata": {
  "kernelspec": {
   "display_name": "Python 3",
   "language": "python",
   "name": "python3"
  },
  "language_info": {
   "codemirror_mode": {
    "name": "ipython",
    "version": 3
   },
   "file_extension": ".py",
   "mimetype": "text/x-python",
   "name": "python",
   "nbconvert_exporter": "python",
   "pygments_lexer": "ipython3",
   "version": "3.7.3"
  }
 },
 "nbformat": 4,
 "nbformat_minor": 2
}
