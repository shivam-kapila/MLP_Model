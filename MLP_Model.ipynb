{
 "cells": [
  {
   "cell_type": "code",
   "execution_count": 15,
   "metadata": {},
   "outputs": [],
   "source": [
    "import numpy as np\n",
    "import matplotlib.pyplot as plt"
   ]
  },
  {
   "cell_type": "code",
   "execution_count": 16,
   "metadata": {},
   "outputs": [],
   "source": [
    "XORdata=np.array([[0,0,0],[0,1,1],[1,0,1],[1,1,0]])\n",
    "X=XORdata[:,0:2]\n",
    "y=XORdata[:,-1]"
   ]
  },
  {
   "cell_type": "code",
   "execution_count": 17,
   "metadata": {},
   "outputs": [],
   "source": [
    "def print_network(net):\n",
    "    for i,layer in enumerate(net,1):\n",
    "        print(\"Layer {} \".format(i))\n",
    "        for j,neuron in enumerate(layer,1):\n",
    "            print(\"neuron {} :\".format(j),neuron)"
   ]
  },
  {
   "cell_type": "code",
   "execution_count": 18,
   "metadata": {},
   "outputs": [],
   "source": [
    "def initialize_network():\n",
    "    \n",
    "    input_neurons=len(X[0])\n",
    "    hidden_neurons=input_neurons+1\n",
    "    output_neurons=2\n",
    "    \n",
    "    n_hidden_layers=1\n",
    "    \n",
    "    net=list()\n",
    "    \n",
    "    for h in range(n_hidden_layers):\n",
    "        if h!=0:\n",
    "            input_neurons=len(net[-1])\n",
    "            \n",
    "        hidden_layer = [ { 'weights': np.random.uniform(size=input_neurons)} for i in range(hidden_neurons) ]\n",
    "        net.append(hidden_layer)\n",
    "    \n",
    "    output_layer = [ { 'weights': np.random.uniform(size=hidden_neurons)} for i in range(output_neurons)]\n",
    "    net.append(output_layer)\n",
    "    \n",
    "    return net"
   ]
  },
  {
   "cell_type": "code",
   "execution_count": 19,
   "metadata": {},
   "outputs": [],
   "source": [
    "net=initialize_network()"
   ]
  },
  {
   "cell_type": "code",
   "execution_count": 20,
   "metadata": {},
   "outputs": [],
   "source": [
    "def activate_sigmoid(sum):\n",
    "    return (1/(1+np.exp(-sum)))"
   ]
  },
  {
   "cell_type": "code",
   "execution_count": 21,
   "metadata": {},
   "outputs": [],
   "source": [
    "def forward_propagation(net,input):\n",
    "    row=input\n",
    "    for layer in net:\n",
    "        prev_input=np.array([])\n",
    "        for neuron in layer:\n",
    "            sum=neuron['weights'].T.dot(row)\n",
    "            \n",
    "            result=activate_sigmoid(sum)\n",
    "            neuron['result']=result\n",
    "            \n",
    "            prev_input=np.append(prev_input,[result])\n",
    "        row =prev_input\n",
    "    \n",
    "    return row"
   ]
  },
  {
   "cell_type": "code",
   "execution_count": 22,
   "metadata": {},
   "outputs": [],
   "source": [
    "def sigmoidDerivative(output):\n",
    "    return output*(1.0-output)"
   ]
  },
  {
   "cell_type": "code",
   "execution_count": 23,
   "metadata": {},
   "outputs": [],
   "source": [
    "def back_propagation(net,row,expected):\n",
    "     for i in reversed(range(len(net))):\n",
    "            layer=net[i]\n",
    "            errors=np.array([])\n",
    "            if i==len(net)-1:\n",
    "                results=[neuron['result'] for neuron in layer]\n",
    "                errors = expected-np.array(results) \n",
    "            else:\n",
    "                for j in range(len(layer)):\n",
    "                    herror=0\n",
    "                    nextlayer=net[i+1]\n",
    "                    for neuron in nextlayer:\n",
    "                        herror+=(neuron['weights'][j]*neuron['delta'])\n",
    "                    errors=np.append(errors,[herror])\n",
    "            \n",
    "            for j in range(len(layer)):\n",
    "                neuron=layer[j]\n",
    "                neuron['delta']=errors[j]*sigmoidDerivative(neuron['result'])"
   ]
  },
  {
   "cell_type": "code",
   "execution_count": 24,
   "metadata": {},
   "outputs": [],
   "source": [
    "def updateWeights(net,input,lrate):\n",
    "    \n",
    "    for i in range(len(net)):\n",
    "        inputs = input\n",
    "        if i!=0:\n",
    "            inputs=[neuron['result'] for neuron in net[i-1]]\n",
    "\n",
    "        for neuron in net[i]:\n",
    "            for j in range(len(inputs)):\n",
    "                neuron['weights'][j]+=lrate*neuron['delta']*inputs[j]"
   ]
  },
  {
   "cell_type": "code",
   "execution_count": 25,
   "metadata": {},
   "outputs": [],
   "source": [
    "def training(net, epochs,lrate,n_outputs):\n",
    "    errors=[]\n",
    "    for epoch in range(epochs):\n",
    "        sum_error=0\n",
    "        for i,row in enumerate(X):\n",
    "            outputs=forward_propagation(net,row)\n",
    "            \n",
    "            expected=[0.0 for i in range(n_outputs)]\n",
    "            expected[y[i]]=1\n",
    "    \n",
    "            sum_error+=sum([(expected[j]-outputs[j])**2 for j in range(len(expected))])\n",
    "            back_propagation(net,row,expected)\n",
    "            updateWeights(net,row,0.05)\n",
    "        if epoch%10000 ==0:\n",
    "            print('>epoch=%d,error=%.3f'%(epoch,sum_error))\n",
    "            errors.append(sum_error)\n",
    "    return errors"
   ]
  },
  {
   "cell_type": "code",
   "execution_count": 26,
   "metadata": {},
   "outputs": [
    {
     "name": "stdout",
     "output_type": "stream",
     "text": [
      ">epoch=0,error=2.461\n",
      ">epoch=10000,error=0.194\n",
      ">epoch=20000,error=0.055\n",
      ">epoch=30000,error=0.032\n",
      ">epoch=40000,error=0.022\n",
      ">epoch=50000,error=0.017\n",
      ">epoch=60000,error=0.014\n",
      ">epoch=70000,error=0.012\n",
      ">epoch=80000,error=0.010\n",
      ">epoch=90000,error=0.009\n"
     ]
    }
   ],
   "source": [
    "errors=training(net,100000, 0.05,2)"
   ]
  },
  {
   "cell_type": "code",
   "execution_count": 27,
   "metadata": {},
   "outputs": [
    {
     "data": {
      "image/png": "[encoded data removed]",
      "text/plain": [
       "<Figure size 432x288 with 1 Axes>"
      ]
     },
     "metadata": {
      "needs_background": "light"
     },
     "output_type": "display_data"
    }
   ],
   "source": [
    "epochs=[0,1,2,3,4,5,6,7,8,9]\n",
    "plt.plot(epochs,errors)\n",
    "plt.xlabel(\"epochs in 10000's\")\n",
    "plt.ylabel('error')\n",
    "plt.show()"
   ]
  },
  {
   "cell_type": "code",
   "execution_count": 28,
   "metadata": {},
   "outputs": [],
   "source": [
    "def predict(network, row):\n",
    "    outputs = forward_propagation(net, row)\n",
    "    return outputs"
   ]
  },
  {
   "cell_type": "code",
   "execution_count": 29,
   "metadata": {},
   "outputs": [
    {
     "name": "stdout",
     "output_type": "stream",
     "text": [
      "1\n"
     ]
    }
   ],
   "source": [
    "pred=predict(net,np.array([1,0]))\n",
    "output=np.argmax(pred)\n",
    "print(output)"
   ]
  },
  {
   "cell_type": "code",
   "execution_count": 30,
   "metadata": {},
   "outputs": [
    {
     "name": "stdout",
     "output_type": "stream",
     "text": [
      "Layer 1 \n",
      "neuron 1 : {'weights': array([5.92324719, 5.89723818]), 'result': 0.9973306495316719, 'delta': -1.3127027677199992e-08}\n",
      "neuron 2 : {'weights': array([ 7.26986803, -4.54629838]), 'result': 0.9993042804985542, 'delta': 7.484733670374758e-05}\n",
      "neuron 3 : {'weights': array([-4.52702662,  7.21663221]), 'result': 0.010697113350031935, 'delta': 7.711463838392592e-05}\n",
      "Layer 2 \n",
      "neuron 1 : {'weights': array([-13.32621171,   9.66478196,   9.66603792]), 'result': 0.028493203078935582, 'delta': 6.677790771662238e-05}\n",
      "neuron 2 : {'weights': array([13.31721183, -9.65809355, -9.65934723]), 'result': 0.9714452654401629, 'delta': -6.724675579286801e-05}\n"
     ]
    }
   ],
   "source": [
    "print_network(net)"
   ]
  },
  {
   "cell_type": "code",
   "execution_count": null,
   "metadata": {},
   "outputs": [],
   "source": []
  }
 ],
 "metadata": {
  "kernelspec": {
   "display_name": "Python 3",
   "language": "python",
   "name": "python3"
  },
  "language_info": {
   "codemirror_mode": {
    "name": "ipython",
    "version": 3
   },
   "file_extension": ".py",
   "mimetype": "text/x-python",
   "name": "python",
   "nbconvert_exporter": "python",
   "pygments_lexer": "ipython3",
   "version": "3.7.3"
  }
 },
 "nbformat": 4,
 "nbformat_minor": 2
}
