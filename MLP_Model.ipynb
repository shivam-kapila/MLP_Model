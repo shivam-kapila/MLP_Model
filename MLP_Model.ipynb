{
 "cells": [
  {
   "cell_type": "code",
   "execution_count": 22,
   "metadata": {},
   "outputs": [],
   "source": [
    "import numpy as np\n",
    "import matplotlib.pyplot as plt\n",
    "import math as math"
   ]
  },
  {
   "cell_type": "code",
   "execution_count": 24,
   "metadata": {},
   "outputs": [
    {
     "name": "stdout",
     "output_type": "stream",
     "text": [
      "[[ 0.7912961  -0.53097984 -0.52301248 ...  0.60970894 -0.82754309\n",
      "   0.59245931]\n",
      " [-0.64594179  0.66591976  0.98505918 ... -0.7653912  -0.73068828\n",
      "  -0.87699786]\n",
      " [ 0.31751761 -0.02606452 -0.96781802 ...  0.09178838 -0.17817861\n",
      "   0.8528422 ]\n",
      " ...\n",
      " [-0.20114488 -0.55123666  0.36803628 ... -0.61433145  0.84552069\n",
      "   0.62545851]\n",
      " [-0.38886587 -0.22431895 -0.86648223 ... -0.69459037 -0.35933455\n",
      "  -0.68230852]\n",
      " [-0.45985226  0.24838819  0.23470791 ...  0.59554197 -0.08425633\n",
      "  -0.98704639]]\n",
      "28.233\n",
      "0.9999999999989044\n",
      "-0.9891575769468344\n"
     ]
    }
   ],
   "source": [
    "np.set_printoptions(suppress=True)\n",
    "X = np.random.uniform(-1,1,(1000,10))\n",
    "print(X)\n",
    "y1= np.add(X[:,0:1],X[:,1:2]*X[:,1:2],X[:,2:3])\n",
    "y2 = np.add(X[:,3:4],np.sin(X[:,4:5]),X[:,5:6])\n",
    "y3 = np.add(7*X[:,6:7],8*np.exp(X[:,7:8]),X[:,8:9])\n",
    "y4 = X[:,9:10]\n",
    "Y=np.round(np.add(np.add(y1,y2),np.add(y3,y4)),decimals=3)\n",
    "# print(Y)\n",
    "print(np.amax(Y))\n",
    "# Y=2*(Y-np.amin(Y))/(np.amax(Y)-np.amin(Y))-1\n",
    "Y1=activate_sigmoid(Y)\n",
    "print(np.amax(Y1))\n",
    "print(np.amin(Y1))"
   ]
  },
  {
   "cell_type": "code",
   "execution_count": 25,
   "metadata": {},
   "outputs": [],
   "source": [
    "def print_network(net):\n",
    "    for i,layer in enumerate(net,1):\n",
    "        print(\"Layer {} \".format(i))\n",
    "        for j,neuron in enumerate(layer,1):\n",
    "            print(\"neuron {} :\".format(j),neuron)"
   ]
  },
  {
   "cell_type": "code",
   "execution_count": 26,
   "metadata": {},
   "outputs": [],
   "source": [
    "def initialize_network():\n",
    "    \n",
    "    input_neurons=len(X[0])\n",
    "    hidden_neurons=input_neurons+1\n",
    "    output_neurons=1\n",
    "    \n",
    "    n_hidden_layers=1\n",
    "    \n",
    "    net=list()\n",
    "    \n",
    "    for h in range(n_hidden_layers):\n",
    "        if h!=0:\n",
    "            input_neurons=len(net[-1])\n",
    "            \n",
    "        hidden_layer = [ { 'weights': np.random.uniform(size=input_neurons)} for i in range(hidden_neurons) ]\n",
    "        net.append(hidden_layer)\n",
    "    \n",
    "    output_layer = [ { 'weights': np.random.uniform(size=hidden_neurons)} for i in range(output_neurons)]\n",
    "    net.append(output_layer)\n",
    "    \n",
    "    return net"
   ]
  },
  {
   "cell_type": "code",
   "execution_count": 27,
   "metadata": {},
   "outputs": [
    {
     "name": "stdout",
     "output_type": "stream",
     "text": [
      "Layer 1 \n",
      "neuron 1 : {'weights': array([0.49344204, 0.89352952, 0.24344579, 0.37894398, 0.50383944,\n",
      "       0.92701021, 0.99439309, 0.52371865, 0.68109451, 0.62222214])}\n",
      "neuron 2 : {'weights': array([0.83465729, 0.78044629, 0.51698119, 0.22148646, 0.20659294,\n",
      "       0.38349899, 0.93120107, 0.93230758, 0.2290321 , 0.20997536])}\n",
      "neuron 3 : {'weights': array([0.13672196, 0.40103237, 0.82859676, 0.19772681, 0.28367529,\n",
      "       0.82567013, 0.18216213, 0.13600001, 0.81396298, 0.38014902])}\n",
      "neuron 4 : {'weights': array([0.07265658, 0.98864143, 0.08221837, 0.1727424 , 0.83964969,\n",
      "       0.21686748, 0.41950696, 0.35863896, 0.91009129, 0.17643428])}\n",
      "neuron 5 : {'weights': array([0.3329749 , 0.10599792, 0.57719882, 0.52080457, 0.74799238,\n",
      "       0.93615447, 0.96777207, 0.29223039, 0.51184668, 0.77582669])}\n",
      "neuron 6 : {'weights': array([0.87022682, 0.50842543, 0.85261865, 0.32965519, 0.31513824,\n",
      "       0.02965995, 0.26991218, 0.0185183 , 0.71629273, 0.74660344])}\n",
      "neuron 7 : {'weights': array([0.11846416, 0.6833668 , 0.65690372, 0.17393247, 0.73992539,\n",
      "       0.5489819 , 0.67548288, 0.89550998, 0.35220302, 0.06477813])}\n",
      "neuron 8 : {'weights': array([0.24510703, 0.86886907, 0.75576859, 0.30017515, 0.81778917,\n",
      "       0.52339913, 0.46497451, 0.25151344, 0.85378334, 0.67395084])}\n",
      "neuron 9 : {'weights': array([0.92267104, 0.30357112, 0.27067134, 0.00104061, 0.34119096,\n",
      "       0.47623404, 0.90645579, 0.28285853, 0.64674052, 0.99324539])}\n",
      "neuron 10 : {'weights': array([0.54883575, 0.91871365, 0.90880628, 0.79455226, 0.56202095,\n",
      "       0.12547416, 0.26091057, 0.14722862, 0.58133355, 0.51510218])}\n",
      "neuron 11 : {'weights': array([0.15856993, 0.91727548, 0.32867121, 0.80327245, 0.30136435,\n",
      "       0.70111663, 0.47404356, 0.58545016, 0.33141268, 0.51620625])}\n",
      "Layer 2 \n",
      "neuron 1 : {'weights': array([0.69973889, 0.37139046, 0.79261084, 0.10454597, 0.84459698,\n",
      "       0.14825617, 0.65593133, 0.94536063, 0.5040439 , 0.25984856,\n",
      "       0.00971469])}\n"
     ]
    }
   ],
   "source": [
    "net=initialize_network()\n",
    "print_network(net)"
   ]
  },
  {
   "cell_type": "code",
   "execution_count": 28,
   "metadata": {},
   "outputs": [],
   "source": [
    "def activate_sigmoid(sum):\n",
    "    return (2/(1+np.exp(-sum))-1)"
   ]
  },
  {
   "cell_type": "code",
   "execution_count": 29,
   "metadata": {},
   "outputs": [],
   "source": [
    "def forward_propagation(net,input):\n",
    "    row=input\n",
    "    for layer in net:\n",
    "        prev_input=np.array([])\n",
    "        for neuron in layer:\n",
    "            sum=neuron['weights'].T.dot(row)\n",
    "            \n",
    "            result=activate_sigmoid(sum)\n",
    "            neuron['result']=result\n",
    "            prev_input=np.append(prev_input,[result])\n",
    "        row=prev_input\n",
    "    return row\n"
   ]
  },
  {
   "cell_type": "code",
   "execution_count": 30,
   "metadata": {},
   "outputs": [],
   "source": [
    "def sigmoidDerivative(output):\n",
    "    return (0.5*(1.0-output*output))"
   ]
  },
  {
   "cell_type": "code",
   "execution_count": 31,
   "metadata": {},
   "outputs": [],
   "source": [
    "def back_propagation(net,row,expected):\n",
    "     for i in reversed(range(len(net))):\n",
    "            layer=net[i]\n",
    "            errors=np.array([])\n",
    "            if i==len(net)-1:\n",
    "                results=[neuron['result'] for neuron in layer]\n",
    "                errors = expected-np.array(results)\n",
    "            else:\n",
    "                for j in range(len(layer)):\n",
    "                    herror=0\n",
    "                    nextlayer=net[i+1]\n",
    "                    for neuron in nextlayer:\n",
    "                        herror+=(neuron['weights'][j]*neuron['delta'])\n",
    "                    errors=np.append(errors,[herror])\n",
    "            \n",
    "            for j in range(len(layer)):\n",
    "                neuron=layer[j]\n",
    "                neuron['delta']=errors[j]*sigmoidDerivative(neuron['result'])"
   ]
  },
  {
   "cell_type": "code",
   "execution_count": 32,
   "metadata": {},
   "outputs": [],
   "source": [
    "def updateWeights(net,input,lrate):\n",
    "    \n",
    "    for i in range(len(net)):\n",
    "        inputs = input\n",
    "        if i!=0:\n",
    "            inputs=[neuron['result'] for neuron in net[i-1]]\n",
    "\n",
    "        for neuron in net[i]:\n",
    "            for j in range(len(inputs)):\n",
    "                neuron['weights'][j]+=lrate*neuron['delta']*inputs[j]"
   ]
  },
  {
   "cell_type": "code",
   "execution_count": 33,
   "metadata": {},
   "outputs": [],
   "source": [
    "def training(net, epochs,lrate,n_outputs):\n",
    "    errors=[]\n",
    "    for epoch in range(epochs):\n",
    "        sum_error=0\n",
    "        for i,row in enumerate(X):\n",
    "            outputs=forward_propagation(net,row)\n",
    "#             expected = [0 for i in range(n_outputs)]\n",
    "#             expected[row[-1]] = 1    \n",
    "            sum_error+=0.5*(math.pow((Y1[i]-outputs),2))\n",
    "#             print(sum_error)\n",
    "            back_propagation(net,row,Y1[i])\n",
    "            updateWeights(net,row,0.05)\n",
    "        errors.append(sum_error)\n",
    "#         print('>epoch=%d,error=%.3f'%(epoch,sum_error))\n",
    "    return errors"
   ]
  },
  {
   "cell_type": "code",
   "execution_count": 34,
   "metadata": {},
   "outputs": [],
   "source": [
    "errors=training(net,10, 0.01,1)"
   ]
  },
  {
   "cell_type": "code",
   "execution_count": 35,
   "metadata": {},
   "outputs": [
    {
     "data": {
      "image/png": "[encoded data removed]",
      "text/plain": [
       "<Figure size 432x288 with 1 Axes>"
      ]
     },
     "metadata": {
      "needs_background": "light"
     },
     "output_type": "display_data"
    }
   ],
   "source": [
    "epochs = []\n",
    "for i in range(10):\n",
    "    epochs.append(i)\n",
    "plt.plot(epochs,errors)\n",
    "plt.xlabel(\"epochs\")\n",
    "plt.ylabel('error')\n",
    "plt.show()"
   ]
  },
  {
   "cell_type": "code",
   "execution_count": 36,
   "metadata": {},
   "outputs": [],
   "source": [
    "def predict(network, row):\n",
    "    outputs = forward_propagation(net, row)\n",
    "    return outputs"
   ]
  },
  {
   "cell_type": "code",
   "execution_count": 37,
   "metadata": {},
   "outputs": [
    {
     "name": "stdout",
     "output_type": "stream",
     "text": [
      "15\n"
     ]
    }
   ],
   "source": [
    "Xpred = X\n",
    "Ypred=Y1\n",
    "predarr=[]\n",
    "# print(Y)\n",
    "Y1=activate_sigmoid(Y)\n",
    "for i,row in enumerate(Xpred):\n",
    "    if(i==15):\n",
    "        break\n",
    "    pred=predict(net,row)\n",
    "    output=(pred)\n",
    "    predarr.append(pred)\n",
    "print(len(predarr))"
   ]
  },
  {
   "cell_type": "code",
   "execution_count": 56,
   "metadata": {
    "scrolled": false
   },
   "outputs": [
    {
     "data": {
      "image/png": "[encoded data removed]",
      "text/plain": [
       "<Figure size 960x800 with 1 Axes>"
      ]
     },
     "metadata": {},
     "output_type": "display_data"
    },
    {
     "name": "stdout",
     "output_type": "stream",
     "text": [
      "[array([0.9579565]), array([0.96305036]), array([0.964303]), array([-0.73664195]), array([0.95660916]), array([0.9755716]), array([0.95110984]), array([0.67433633]), array([0.96143198]), array([0.96937266]), array([0.88802098]), array([0.96006043]), array([0.96003032]), array([0.95820292]), array([0.96406115])]\n",
      "[array([0.99999999]), array([0.99991441]), array([0.99987975]), array([-0.62091942]), array([0.9910699]), array([0.9942796]), array([0.99184349]), array([0.49525549]), array([0.99999987]), array([0.99973743]), array([0.82855205]), array([0.99993062]), array([0.97862637]), array([0.9751367]), array([0.99999193])]\n"
     ]
    }
   ],
   "source": [
    "from matplotlib.pyplot import figure\n",
    "figure(num=None, figsize=(12, 10), dpi=80, facecolor='w', edgecolor='k')\n",
    "epochs = []\n",
    "Y12 = []\n",
    "X12 = []\n",
    "for i in range(15):\n",
    "    epochs.append(i)\n",
    "    Y12.append(Ypred[i])\n",
    "    X12.append(X[i])\n",
    "plt.plot(epochs, Y12)\n",
    "plt.plot(epochs, predarr)\n",
    "plt.legend(['Actual', 'Predicted'])\n",
    "plt.show()\n",
    "print(predarr)\n",
    "print(Y12)"
   ]
  },
  {
   "cell_type": "code",
   "execution_count": 57,
   "metadata": {},
   "outputs": [
    {
     "name": "stdout",
     "output_type": "stream",
     "text": [
      "[[ 0.99185855]\n",
      " [ 0.95554014]\n",
      " [ 1.19611408]\n",
      " [-0.3425192 ]\n",
      " [ 1.17327046]\n",
      " [ 0.69377533]\n",
      " [ 0.65293357]\n",
      " [ 0.66398378]\n",
      " [ 1.12531932]\n",
      " [ 1.00520935]\n",
      " [ 0.65404908]\n",
      " [ 1.18389724]\n",
      " [ 0.96266396]\n",
      " [ 0.82246669]\n",
      " [ 0.89473585]]\n"
     ]
    }
   ],
   "source": [
    "from sklearn.linear_model import LinearRegression\n",
    "linear_regressor = LinearRegression()  \n",
    "linear_regressor.fit(X12, Y12)  # perform linear regression\n",
    "Y_pred = linear_regressor.predict(X12)  # make predictions\n",
    "print(Y_pred)"
   ]
  },
  {
   "cell_type": "code",
   "execution_count": 59,
   "metadata": {},
   "outputs": [
    {
     "ename": "ValueError",
     "evalue": "x and y must be the same size",
     "output_type": "error",
     "traceback": [
      "\u001b[0;31m---------------------------------------------------------------------------\u001b[0m",
      "\u001b[0;31mValueError\u001b[0m                                Traceback (most recent call last)",
      "\u001b[0;32m<ipython-input-59-3553100a96ec>\u001b[0m in \u001b[0;36m<module>\u001b[0;34m\u001b[0m\n\u001b[0;32m----> 1\u001b[0;31m \u001b[0mplt\u001b[0m\u001b[0;34m.\u001b[0m\u001b[0mscatter\u001b[0m\u001b[0;34m(\u001b[0m\u001b[0mX12\u001b[0m\u001b[0;34m,\u001b[0m \u001b[0mY12\u001b[0m\u001b[0;34m)\u001b[0m\u001b[0;34m\u001b[0m\u001b[0;34m\u001b[0m\u001b[0m\n\u001b[0m\u001b[1;32m      2\u001b[0m \u001b[0mplt\u001b[0m\u001b[0;34m.\u001b[0m\u001b[0mplot\u001b[0m\u001b[0;34m(\u001b[0m\u001b[0mX12\u001b[0m\u001b[0;34m,\u001b[0m \u001b[0mY_pred\u001b[0m\u001b[0;34m,\u001b[0m \u001b[0mcolor\u001b[0m\u001b[0;34m=\u001b[0m\u001b[0;34m'red'\u001b[0m\u001b[0;34m)\u001b[0m\u001b[0;34m\u001b[0m\u001b[0;34m\u001b[0m\u001b[0m\n\u001b[1;32m      3\u001b[0m \u001b[0mplt\u001b[0m\u001b[0;34m.\u001b[0m\u001b[0mshow\u001b[0m\u001b[0;34m(\u001b[0m\u001b[0;34m)\u001b[0m\u001b[0;34m\u001b[0m\u001b[0;34m\u001b[0m\u001b[0m\n",
      "\u001b[0;32m~/anaconda3/lib/python3.7/site-packages/matplotlib/pyplot.py\u001b[0m in \u001b[0;36mscatter\u001b[0;34m(x, y, s, c, marker, cmap, norm, vmin, vmax, alpha, linewidths, verts, edgecolors, data, **kwargs)\u001b[0m\n\u001b[1;32m   2860\u001b[0m         \u001b[0mvmin\u001b[0m\u001b[0;34m=\u001b[0m\u001b[0mvmin\u001b[0m\u001b[0;34m,\u001b[0m \u001b[0mvmax\u001b[0m\u001b[0;34m=\u001b[0m\u001b[0mvmax\u001b[0m\u001b[0;34m,\u001b[0m \u001b[0malpha\u001b[0m\u001b[0;34m=\u001b[0m\u001b[0malpha\u001b[0m\u001b[0;34m,\u001b[0m \u001b[0mlinewidths\u001b[0m\u001b[0;34m=\u001b[0m\u001b[0mlinewidths\u001b[0m\u001b[0;34m,\u001b[0m\u001b[0;34m\u001b[0m\u001b[0;34m\u001b[0m\u001b[0m\n\u001b[1;32m   2861\u001b[0m         verts=verts, edgecolors=edgecolors, **({\"data\": data} if data\n\u001b[0;32m-> 2862\u001b[0;31m         is not None else {}), **kwargs)\n\u001b[0m\u001b[1;32m   2863\u001b[0m     \u001b[0msci\u001b[0m\u001b[0;34m(\u001b[0m\u001b[0m__ret\u001b[0m\u001b[0;34m)\u001b[0m\u001b[0;34m\u001b[0m\u001b[0;34m\u001b[0m\u001b[0m\n\u001b[1;32m   2864\u001b[0m     \u001b[0;32mreturn\u001b[0m \u001b[0m__ret\u001b[0m\u001b[0;34m\u001b[0m\u001b[0;34m\u001b[0m\u001b[0m\n",
      "\u001b[0;32m~/anaconda3/lib/python3.7/site-packages/matplotlib/__init__.py\u001b[0m in \u001b[0;36minner\u001b[0;34m(ax, data, *args, **kwargs)\u001b[0m\n\u001b[1;32m   1808\u001b[0m                         \u001b[0;34m\"the Matplotlib list!)\"\u001b[0m \u001b[0;34m%\u001b[0m \u001b[0;34m(\u001b[0m\u001b[0mlabel_namer\u001b[0m\u001b[0;34m,\u001b[0m \u001b[0mfunc\u001b[0m\u001b[0;34m.\u001b[0m\u001b[0m__name__\u001b[0m\u001b[0;34m)\u001b[0m\u001b[0;34m,\u001b[0m\u001b[0;34m\u001b[0m\u001b[0;34m\u001b[0m\u001b[0m\n\u001b[1;32m   1809\u001b[0m                         RuntimeWarning, stacklevel=2)\n\u001b[0;32m-> 1810\u001b[0;31m             \u001b[0;32mreturn\u001b[0m \u001b[0mfunc\u001b[0m\u001b[0;34m(\u001b[0m\u001b[0max\u001b[0m\u001b[0;34m,\u001b[0m \u001b[0;34m*\u001b[0m\u001b[0margs\u001b[0m\u001b[0;34m,\u001b[0m \u001b[0;34m**\u001b[0m\u001b[0mkwargs\u001b[0m\u001b[0;34m)\u001b[0m\u001b[0;34m\u001b[0m\u001b[0;34m\u001b[0m\u001b[0m\n\u001b[0m\u001b[1;32m   1811\u001b[0m \u001b[0;34m\u001b[0m\u001b[0m\n\u001b[1;32m   1812\u001b[0m         inner.__doc__ = _add_data_doc(inner.__doc__,\n",
      "\u001b[0;32m~/anaconda3/lib/python3.7/site-packages/matplotlib/axes/_axes.py\u001b[0m in \u001b[0;36mscatter\u001b[0;34m(self, x, y, s, c, marker, cmap, norm, vmin, vmax, alpha, linewidths, verts, edgecolors, **kwargs)\u001b[0m\n\u001b[1;32m   4180\u001b[0m         \u001b[0my\u001b[0m \u001b[0;34m=\u001b[0m \u001b[0mnp\u001b[0m\u001b[0;34m.\u001b[0m\u001b[0mma\u001b[0m\u001b[0;34m.\u001b[0m\u001b[0mravel\u001b[0m\u001b[0;34m(\u001b[0m\u001b[0my\u001b[0m\u001b[0;34m)\u001b[0m\u001b[0;34m\u001b[0m\u001b[0;34m\u001b[0m\u001b[0m\n\u001b[1;32m   4181\u001b[0m         \u001b[0;32mif\u001b[0m \u001b[0mx\u001b[0m\u001b[0;34m.\u001b[0m\u001b[0msize\u001b[0m \u001b[0;34m!=\u001b[0m \u001b[0my\u001b[0m\u001b[0;34m.\u001b[0m\u001b[0msize\u001b[0m\u001b[0;34m:\u001b[0m\u001b[0;34m\u001b[0m\u001b[0;34m\u001b[0m\u001b[0m\n\u001b[0;32m-> 4182\u001b[0;31m             \u001b[0;32mraise\u001b[0m \u001b[0mValueError\u001b[0m\u001b[0;34m(\u001b[0m\u001b[0;34m\"x and y must be the same size\"\u001b[0m\u001b[0;34m)\u001b[0m\u001b[0;34m\u001b[0m\u001b[0;34m\u001b[0m\u001b[0m\n\u001b[0m\u001b[1;32m   4183\u001b[0m \u001b[0;34m\u001b[0m\u001b[0m\n\u001b[1;32m   4184\u001b[0m         \u001b[0;32mif\u001b[0m \u001b[0ms\u001b[0m \u001b[0;32mis\u001b[0m \u001b[0;32mNone\u001b[0m\u001b[0;34m:\u001b[0m\u001b[0;34m\u001b[0m\u001b[0;34m\u001b[0m\u001b[0m\n",
      "\u001b[0;31mValueError\u001b[0m: x and y must be the same size"
     ]
    },
    {
     "data": {
      "image/png": "[encoded data removed]",
      "text/plain": [
       "<Figure size 432x288 with 1 Axes>"
      ]
     },
     "metadata": {
      "needs_background": "light"
     },
     "output_type": "display_data"
    }
   ],
   "source": [
    "plt.scatter(X12, Y12)\n",
    "plt.plot(X12, Y_pred, color='red')\n",
    "plt.show()"
   ]
  },
  {
   "cell_type": "code",
   "execution_count": null,
   "metadata": {},
   "outputs": [],
   "source": []
  }
 ],
 "metadata": {
  "kernelspec": {
   "display_name": "Python 3",
   "language": "python",
   "name": "python3"
  },
  "language_info": {
   "codemirror_mode": {
    "name": "ipython",
    "version": 3
   },
   "file_extension": ".py",
   "mimetype": "text/x-python",
   "name": "python",
   "nbconvert_exporter": "python",
   "pygments_lexer": "ipython3",
   "version": "3.7.3"
  }
 },
 "nbformat": 4,
 "nbformat_minor": 2
}
